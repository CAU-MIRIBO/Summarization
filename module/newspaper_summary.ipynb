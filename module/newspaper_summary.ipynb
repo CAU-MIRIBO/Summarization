{
  "nbformat": 4,
  "nbformat_minor": 0,
  "metadata": {
    "colab": {
      "name": "newspaper_summary.ipynb",
      "provenance": [],
      "collapsed_sections": [],
      "authorship_tag": "ABX9TyNpn6GFO2bMLjUWVwR5WDrx"
    },
    "kernelspec": {
      "name": "python3",
      "display_name": "Python 3"
    },
    "language_info": {
      "name": "python"
    }
  },
  "cells": [
    {
      "cell_type": "markdown",
      "source": [
        "#generate summary\n",
        "####using newspaper module"
      ],
      "metadata": {
        "id": "V9TdK6jwjFBo"
      }
    },
    {
      "cell_type": "code",
      "execution_count": null,
      "metadata": {
        "id": "vxdo0Lcvi-OA"
      },
      "outputs": [],
      "source": [
        "pip install newspaper3k"
      ]
    },
    {
      "cell_type": "code",
      "source": [
        "from gensim.summarization.summarizer import summarize\n",
        "from newspaper import Article"
      ],
      "metadata": {
        "id": "iHZ3oYhZjFlN"
      },
      "execution_count": 2,
      "outputs": []
    },
    {
      "cell_type": "markdown",
      "source": [
        "##get url text"
      ],
      "metadata": {
        "id": "oTxlCcKEjKzg"
      }
    },
    {
      "cell_type": "code",
      "source": [
        "url = 'https://www.etnews.com/20220304000171?mc=ns_003_00001'\n",
        "news = Article(url, language='ko')\n",
        "news.download()\n",
        "news.parse()\n",
        "print(news.text)"
      ],
      "metadata": {
        "colab": {
          "base_uri": "https://localhost:8080/"
        },
        "id": "FUdwC7IRjP0V",
        "outputId": "85ee32e0-af76-42bc-dd41-8ac3c5d33ec7"
      },
      "execution_count": null,
      "outputs": [
        {
          "output_type": "stream",
          "name": "stdout",
          "text": [
            "영국 인공지능(AI) 반도체 스타트업 그래프코어가 초당 35경번 연산이 가능한 지능형처리장치(IPU)를 출시했다. 2024년 세계 최초 '초지능 AI 컴퓨터'를 출시한다는 로드맵도 발표했다. 설립 6년 만에 대규모 투자 유치에 성공한 그래프코어는 신제품 발표로 투자 유치 속도가 가속화될 전망이다.\n",
            "\n",
            "그래프코어는 최근 세계 최초 3차원(3D) 웨이퍼 온 웨이퍼(WoW) 기술을 적용한 '보우 IPU'를 출시했다. 초대형 보우 POD 1024 모델은 350페타플롭스 AI 연산을 지원한다. 페타플롭스는 1초에 1000조번 수학 연산을 처리한다는 뜻이다. 그래프코어 신제품은 초당 최대 35경번 연산을 할 수 있다.\n",
            "\n",
            "\n",
            "\n",
            "보우 IPU는 TSMC의 WoW 패키징 기술이 적용된 첫 AI 반도체다. WoW는 반도체(다이) 간 대역폭을 높여 전력 효율을 극대화한 기술이다. 신제품은 미국 에너지부 산하 퍼시픽노스웨스트 국립연구소에 적용됐다. 기존 수일 소요되던 학습과 추론 컴퓨팅 시간을 몇시간으로 단축시켰다. 클라우드 서비스 제공업체 시라스케일과 유럽 지코어랩스 등 고객사를 확보했다.\n",
            "\n",
            "\n",
            "\n",
            "신제품 출시로 그래프코어의 AI 반도체 시장 공략 속도는 한층 빨라질 전망이다. 2016년 설립한 그래프코어는 초기 대규모 투자 유치로 공격적 연구개발(R&D)을 추진하는 회사로 유명하다. 설립 1년 만에 기술력을 인정받아 실리콘밸리 벤처캐피털로부터 50000만달러 투자를 유치했다. 지난해 하반기까지 7억1000만달러를 유치한데 이어 최근 2000만달러를 추가 투자받아 총 7억3000만달러(약 8800억원)를 달성했다.\n",
            "\n",
            "\n",
            "\n",
            "그래프코어 관계자는 “추가 투자 협의를 진행 중”이라며 “반도체 스타트업 최초로 1조원 투자 유치에 달성할 수 있을 것으로 기대한다”고 밝혔다. 국내에서는 KT 하이퍼스케일 AI 서비스와 NHN 클라우드 서비스에 그래프코어 제품이 적용됐다. 그래프코어는 2020년 한국 지사를 설립, 국내 슈퍼컴퓨터와 클라우드 데이터센터 시장을 공략 중이다.\n",
            "\n",
            "그래프코어는 보우 IPU를 포함한 신기술을 추가 확보, 초지능 AI 컴퓨터 '굿 컴퓨터'도 개발한다. 초당 10페타바이트 이상 대역폭으로 최대 4페타바이트 메모리를 제공할 수 있다. 출시 목표는 2024년으로 가격은 최대 1억2000만달러에 달할 것으로 보인다.\n",
            "\n",
            "\n",
            "\n",
            "권동준기자 djkwon@etnews.com\n"
          ]
        }
      ]
    },
    {
      "cell_type": "code",
      "source": [
        "text=\"\"\"도로와 철도 레일 위를 모두 달릴 수 있는 '레일버스'가 개발돼 벽지 노선 등에 투입될 것으로 보인다.\n",
        "코레일은 \"현재 25인승 버스를 개조해 만든 레일버스의 안전성 검증과 기술 추가 개발이 끝나면 3대를 제작해 이르면 2019년 말 강원 정선 지역의 정선선 등에 투입할 계획\"이라고 6일 밝혔다.\n",
        "레일버스는 버스 차량이 철도 레일 위에서도 달릴 수 있도록 일종의 보조 바퀴 역할을 하는 '가이드 휠'을 단 차량이다. 25~35인승 버스를 개조해 만들 계획이며 선로 위에서 시속 80㎞ 속도로 달릴 수 있다. 코레일 담당자는 \"필요할 경우 차량 3대를 연결 운행하면 75~105명까지 탈 수 있을 것\"이라고 말했다. 레일버스는 도로에서도 달릴 수 있어 기차역에 도착한 뒤 관광지, 버스 정류장까지 도로 주행이 가능하다. 도로를 달릴 때는 유압으로 가이드 휠을 들어 올리고 주행하는 방식이다.\n",
        "코레일은 올해 초부터 레일버스 시험 차량을 제작해 대전의 시험 선로에서 운행하고 있다. 레일버스 개발에는 총 20억원이 들어갈 것으로 보이며, 차량 1대 제작 가격은 3억원 수준이다. 코레일 측은 \"영국에서는 버스를 열차로 완전히 개조해 운행한 사례가 있으며, 일본은 2020년까지 레일버스와 형태가 비슷한 DMV(Dual Mode Vehicle)를 2020년까지 상용화할 계획\"이라고 밝혔다.\n",
        "코레일은 \"레일버스가 투입되면 벽지 노선 적자는 줄이면서도 운행 횟수는 늘려나갈 수 있다\"고 밝혔다. 예를 들여 정선선에 레일버스를 투입하면 정선선에서 발생하는 연간 적자를 18억원에서 13억원 수준으로 5억원 줄이면서 열차 운행 횟수는 현재(관광 열차 편도 2회)의 6.5배 수준인 편도 13회까지 늘릴 수 있을 것으로 기대하고 있다. 레일버스를 투입하면 현재 운행 중인 새마을·무궁화호급 열차보다 운영비 등을 줄일 수 있기 때문이다. 코레일은 이용객이 적고 적자가 나는 다른 벽지 노선 등에도 레일버스를 투입할 수 있을 것으로 기대하고 있다.\"\"\""
      ],
      "metadata": {
        "id": "twCNH50n6Y_U"
      },
      "execution_count": 3,
      "outputs": []
    },
    {
      "cell_type": "markdown",
      "source": [
        "##summarization"
      ],
      "metadata": {
        "id": "ybp_E_q5jSUt"
      }
    },
    {
      "cell_type": "code",
      "source": [
        "#print(summarize(news.text))\n",
        "print(summarize(text))"
      ],
      "metadata": {
        "colab": {
          "base_uri": "https://localhost:8080/"
        },
        "id": "w1QCFy8ujQi-",
        "outputId": "27fba8bc-dd57-4719-8758-a227e3683ae5"
      },
      "execution_count": 4,
      "outputs": [
        {
          "output_type": "stream",
          "name": "stdout",
          "text": [
            "코레일은 \"현재 25인승 버스를 개조해 만든 레일버스의 안전성 검증과 기술 추가 개발이 끝나면 3대를 제작해 이르면 2019년 말 강원 정선 지역의 정선선 등에 투입할 계획\"이라고 6일 밝혔다.\n",
            "코레일은 이용객이 적고 적자가 나는 다른 벽지 노선 등에도 레일버스를 투입할 수 있을 것으로 기대하고 있다.\n"
          ]
        }
      ]
    },
    {
      "cell_type": "markdown",
      "source": [
        "## Keyword extraction 1 - YAKE"
      ],
      "metadata": {
        "id": "8XO7IzGJ6zbq"
      }
    },
    {
      "cell_type": "code",
      "source": [
        "pip install yake"
      ],
      "metadata": {
        "id": "sAQ4C_6B6vUz"
      },
      "execution_count": null,
      "outputs": []
    },
    {
      "cell_type": "code",
      "source": [
        "import yake\n",
        "kw_extractor = yake.KeywordExtractor()"
      ],
      "metadata": {
        "id": "xIWe5z9T7IxQ"
      },
      "execution_count": 6,
      "outputs": []
    },
    {
      "cell_type": "code",
      "source": [
        "language =\"kr\"\n",
        "max_ngram_size = 3\n",
        "deduplication_threshold = 0.9\n",
        "numOfKeywords = 20\n",
        "custom_kw_extractor = yake.KeywordExtractor(lan=language, n=max_ngram_size, dedupLim=deduplication_threshold, top=numOfKeywords,features=None)\n",
        "keywords = custom_kw_extractor.extract_keywords(text)\n",
        "for kw in keywords:\n",
        "    print(kw)"
      ],
      "metadata": {
        "id": "05d4mvcs7MxM",
        "outputId": "70d70419-a78d-493e-c8ff-1cbe449fe250",
        "colab": {
          "base_uri": "https://localhost:8080/"
        }
      },
      "execution_count": 7,
      "outputs": [
        {
          "output_type": "stream",
          "name": "stdout",
          "text": [
            "('투입될 것으로 보인다', 0.018197174577418884)\n",
            "('것으로 보인다', 0.08802867805568107)\n",
            "('버스를 개조해', 0.10363709005506469)\n",
            "('투입될 것으로', 0.10466038835107934)\n",
            "('코레일은', 0.1075742239669956)\n",
            "('Dual Mode Vehicle', 0.11364035048421149)\n",
            "('것으로', 0.1276537601299046)\n",
            "('버스를', 0.13225424248429393)\n",
            "('개조해', 0.14424048421821276)\n",
            "('레일버스의 안전성 검증과', 0.14683032030019824)\n",
            "('밝혔다', 0.15552650475058002)\n",
            "('도로와', 0.15844926696493852)\n",
            "('보인다', 0.15844926696493852)\n",
            "('개발돼', 0.18554957234557465)\n",
            "('투입될', 0.18554957234557465)\n",
            "('레일버스를', 0.18859660387985805)\n",
            "('것으로 기대하고', 0.19368823152686598)\n",
            "('Dual Mode', 0.20123800186922325)\n",
            "('개발이 끝나면', 0.2116042245391398)\n",
            "('레일버스는', 0.21579678509563702)\n"
          ]
        }
      ]
    },
    {
      "cell_type": "markdown",
      "source": [
        "## Keyword extraction 2 - konlpy"
      ],
      "metadata": {
        "id": "WG0SnNaj7TFJ"
      }
    },
    {
      "cell_type": "code",
      "source": [
        "%%bash\n",
        "apt-get update\n",
        "apt-get install g++ openjdk-8-jdk python-dev python3-dev\n",
        "pip3 install JPype1\n",
        "pip3 install konlpy"
      ],
      "metadata": {
        "id": "xf3Qmy127bSE"
      },
      "execution_count": null,
      "outputs": []
    },
    {
      "cell_type": "code",
      "source": [
        "%env JAVA_HOME \"/usr/lib/jvm/java-8-openjdk-amd64\""
      ],
      "metadata": {
        "id": "e1is0XCF7hP7",
        "outputId": "6a29000e-2268-4d13-94d2-f5358d97de92",
        "colab": {
          "base_uri": "https://localhost:8080/"
        }
      },
      "execution_count": 10,
      "outputs": [
        {
          "output_type": "stream",
          "name": "stdout",
          "text": [
            "env: JAVA_HOME=\"/usr/lib/jvm/java-8-openjdk-amd64\"\n"
          ]
        }
      ]
    },
    {
      "cell_type": "code",
      "source": [
        "%%bash\n",
        "bash <(curl -s https://raw.githubusercontent.com/konlpy/konlpy/master/scripts/mecab.sh)\n",
        "pip3 install /tmp/mecab-python-0.996"
      ],
      "metadata": {
        "id": "BKNDcYo97sI2"
      },
      "execution_count": null,
      "outputs": []
    },
    {
      "cell_type": "code",
      "source": [
        "from konlpy.tag import Okt\n",
        "okt=Okt()"
      ],
      "metadata": {
        "id": "ma2VGksF7snv"
      },
      "execution_count": 12,
      "outputs": []
    },
    {
      "cell_type": "code",
      "source": [
        "def keyword_extractor(tagger, text):\n",
        "    tokens = tagger.phrases(text)\n",
        "    tokens = [ token for token in tokens if len(token) > 1 ] # 한 글자인 단어는 제외\n",
        "    count_dict = [(token, text.count(token)) for token in tokens ]\n",
        "    ranked_words = sorted(count_dict, key=lambda x:x[1], reverse=True)[:10]\n",
        "    return [ keyword for keyword, freq in ranked_words ]"
      ],
      "metadata": {
        "id": "gMr5oAJQ7ynf"
      },
      "execution_count": 13,
      "outputs": []
    },
    {
      "cell_type": "code",
      "source": [
        "print( keyword_extractor(okt, text) )"
      ],
      "metadata": {
        "id": "GLDBo2R-74nc",
        "outputId": "1ef48fd2-7e45-49fd-d151-06903617d4a4",
        "colab": {
          "base_uri": "https://localhost:8080/"
        }
      },
      "execution_count": 14,
      "outputs": [
        {
          "output_type": "stream",
          "name": "stdout",
          "text": [
            "['레일', '버스', '레일버스', '투입', '코레일', '운행', '도로', '차량', '열차', '정선']\n"
          ]
        }
      ]
    }
  ]
}